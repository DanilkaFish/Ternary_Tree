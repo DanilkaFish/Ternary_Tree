{
 "cells": [
  {
   "cell_type": "markdown",
   "id": "a6212a4a",
   "metadata": {},
   "source": [
    "# Ternary Tree creation as a TernaryTree object"
   ]
  },
  {
   "cell_type": "markdown",
   "id": "55769b13",
   "metadata": {},
   "source": [
    "1) You can use only qubit number (number of fermionic mods) then standart minimal tree will be created, where the last string is branches numeration corresponding to mayorana operators: $a_p = \\gamma_{2p} - i\\gamma_{2p+1}$\n",
    "\n",
    "For example, $a_1 = X_0X_1X_4 - i X_0X_2$ "
   ]
  },
  {
   "cell_type": "code",
   "execution_count": 7,
   "id": "851702b6",
   "metadata": {
    "scrolled": true
   },
   "outputs": [
    {
     "name": "stdout",
     "output_type": "stream",
     "text": [
      "0X  0X  0X  0X  0X  0Y  0Y  0Z  0Z  0Z  0Z  0Z  \n",
      "1X  1X  1X  1Y  1Z  2X  2Z  3X  3Y  3Z  3Z  3Z  \n",
      "4X  4Y  4Z                          5X  5Y  5Z  \n",
      "1   3   5   6   4   2   8   10  12  11  9   7   \n",
      " ---------------------------------------------------------------\n"
     ]
    }
   ],
   "source": [
    "from Ternary_Tree import TernaryTree\n",
    "\n",
    "tt = TernaryTree(6)\n",
    "print(tt)"
   ]
  },
  {
   "cell_type": "markdown",
   "id": "3c28b7a6",
   "metadata": {},
   "source": [
    "1) You can use parent_child = {NodeNumber: NodeInfo} dictianory which keep all the information about the tree. NodeInfo.parent -- number of parent node, NodeInfo.childs = list(int | EnumInfo | False) -- int - number of the child node, EnumInfo -- number of the branch"
   ]
  },
  {
   "cell_type": "code",
   "execution_count": 8,
   "id": "3ad72930",
   "metadata": {},
   "outputs": [
    {
     "name": "stdout",
     "output_type": "stream",
     "text": [
      "0X  0X  0X  0X  0X  0X  0Y  0Y  0Y  0Y  0Y  0Y  \n",
      "1X  1X  1X  1Y  1Y  1Y  2X  2X  2X  2Y  2Y  2Y  \n",
      "3X  3Y  3Z  4X  4Y  4Z  5X  5Y  5Z  6X  6Y  6Z  \n",
      "1   2   3   4   5   6   7   8   9   10  11  12  \n",
      " ---------------------------------------------------------------\n"
     ]
    },
    {
     "data": {
      "text/plain": [
       "'You also can create ternary tree with standart numeration in an easier way'"
      ]
     },
     "metadata": {},
     "output_type": "display_data"
    },
    {
     "name": "stdout",
     "output_type": "stream",
     "text": [
      "0X  0X  0X  0X  0X  0X  0Y  0Y  0Y  0Y  0Y  0Y  \n",
      "1X  1X  1X  1Y  1Y  1Y  2X  2X  2X  2Y  2Y  2Y  \n",
      "3X  3Y  3Z  4X  4Y  4Z  5X  5Y  5Z  6X  6Y  6Z  \n",
      "1   3   5   6   4   2   8   10  12  11  9   7   \n",
      " ---------------------------------------------------------------\n"
     ]
    },
    {
     "data": {
      "text/plain": [
       "'For example, you can create JordanWigner Tree'"
      ]
     },
     "metadata": {},
     "output_type": "display_data"
    },
    {
     "name": "stdout",
     "output_type": "stream",
     "text": [
      "0X  0Y  0Z  0Z  0Z  0Z  0Z  0Z  0Z  0Z  0Z  0Z  \n",
      "        1X  1Y  1Z  1Z  1Z  1Z  1Z  1Z  1Z  1Z  \n",
      "                2X  2Y  2Z  2Z  2Z  2Z  2Z  2Z  \n",
      "                        3X  3Y  3Z  3Z  3Z  3Z  \n",
      "                                4X  4Y  4Z  4Z  \n",
      "                                        5X  5Y  \n",
      "1   2   3   4   5   6   7   8   9   10  11  12  \n",
      " ---------------------------------------------------------------\n"
     ]
    }
   ],
   "source": [
    "from Ternary_Tree import TernaryTree, NodeInfo, EnumInfo\n",
    "\n",
    "parent_child = {0 : NodeInfo(-1,[1,2,False])} # intiial node should have negative parent\n",
    "parent_child[1] = NodeInfo(0,[3,4, False])\n",
    "parent_child[2] = NodeInfo(0,[5,6, False])\n",
    "parent_child[3] =  NodeInfo(1,[EnumInfo(1),EnumInfo(2),EnumInfo(3)])\n",
    "parent_child[4] = NodeInfo(1,[EnumInfo(4),EnumInfo(5),EnumInfo(6)])\n",
    "parent_child[5] =  NodeInfo(2,[EnumInfo(7),EnumInfo(8),EnumInfo(9)])\n",
    "parent_child[6] =  NodeInfo(2,[EnumInfo(10),EnumInfo(11),EnumInfo(12)])\n",
    "\n",
    "tt = TernaryTree(parent_child = parent_child)\n",
    "print(tt)\n",
    "\n",
    "display(\"You also can create ternary tree with standart numeration in an easier way\")\n",
    "parent_child = {0 : NodeInfo(-1,[1,2,False])}\n",
    "parent_child[1] = NodeInfo(0,[3,4, False])\n",
    "parent_child[2] = NodeInfo(0,[5,6, False])\n",
    "parent_child[3] =  NodeInfo(1)\n",
    "parent_child[4] = NodeInfo(1)\n",
    "parent_child[5] =  NodeInfo(2)\n",
    "parent_child[6] =  NodeInfo(2) # nodes number can differ from fermionec modes nember\n",
    "\n",
    "tt = TernaryTree(parent_child = parent_child)\n",
    "print(tt)\n",
    "display(\"For example, you can create Jordan-Wigner Tree\")\n",
    "parent_child = {0 : NodeInfo(-1,[None,None,1])}\n",
    "parent_child[1] = NodeInfo(0,[None,None,2])\n",
    "parent_child[2] = NodeInfo(1,[None,None,3])\n",
    "parent_child[3] =  NodeInfo(2,[None,None,4])\n",
    "parent_child[4] = NodeInfo(3,[None,None,5])\n",
    "parent_child[5] =  NodeInfo(4,[None,None,False])\n",
    "tt = TernaryTree(parent_child = parent_child, enum_list = [i for i in range(12)])\n",
    "print(tt)"
   ]
  },
  {
   "cell_type": "code",
   "execution_count": 9,
   "id": "e46e2062",
   "metadata": {},
   "outputs": [
    {
     "data": {
      "text/plain": [
       "'You can renumerate branches via TernaryTree.num_brances(list[int])'"
      ]
     },
     "metadata": {},
     "output_type": "display_data"
    },
    {
     "name": "stdout",
     "output_type": "stream",
     "text": [
      "0X  0Y  0Z  0Z  0Z  0Z  0Z  0Z  0Z  0Z  0Z  0Z  \n",
      "        1X  1Y  1Z  1Z  1Z  1Z  1Z  1Z  1Z  1Z  \n",
      "                2X  2Y  2Z  2Z  2Z  2Z  2Z  2Z  \n",
      "                        3X  3Y  3Z  3Z  3Z  3Z  \n",
      "                                4X  4Y  4Z  4Z  \n",
      "                                        5X  5Y  \n",
      "1   2   3   4   5   6   7   8   9   10  11  12  \n",
      " ---------------------------------------------------------------\n"
     ]
    }
   ],
   "source": [
    "display(\"You can renumerate branches via TernaryTree.num_brances(list[int])\")\n",
    "tt.num_branches([i for i in range(0,12)])\n",
    "# tt.num_branches([1,3,4,5,6,7,8,9,10,11,12,13])\n",
    "print(tt)"
   ]
  },
  {
   "cell_type": "code",
   "execution_count": null,
   "id": "740b9d51",
   "metadata": {},
   "outputs": [],
   "source": []
  }
 ],
 "metadata": {
  "kernelspec": {
   "display_name": "Python 3 (ipykernel)",
   "language": "python",
   "name": "python3"
  },
  "language_info": {
   "codemirror_mode": {
    "name": "ipython",
    "version": 3
   },
   "file_extension": ".py",
   "mimetype": "text/x-python",
   "name": "python",
   "nbconvert_exporter": "python",
   "pygments_lexer": "ipython3",
   "version": "3.9.15"
  }
 },
 "nbformat": 4,
 "nbformat_minor": 5
}
