{
 "cells": [
  {
   "cell_type": "markdown",
   "id": "cb48f0fd",
   "metadata": {},
   "source": [
    "# Ternary Tree creation as a TernaryTree object"
   ]
  },
  {
   "cell_type": "markdown",
   "id": "1210f171",
   "metadata": {},
   "source": [
    "## 1) You can use only qubit number (number of fermionic mods) then standart minimal tree will be created (its branches numeration can slightly differ), where the last string is branches numeration corresponding to mayorana operators: $a_p = \\gamma_{2p} - i\\gamma_{2p+1}$\n",
    "\n",
    "For example, $a_1 = \\frac{1}{2}(X_0X_1X_4 - i X_0X_2)$ "
   ]
  },
  {
   "cell_type": "code",
   "execution_count": 1,
   "id": "2e17d053",
   "metadata": {
    "scrolled": true
   },
   "outputs": [
    {
     "name": "stdout",
     "output_type": "stream",
     "text": [
      "0X  0X  0X  0X  0X  0Y  0Y  0Z  0Z  0Z  0Z  0Z  \n",
      "1X  1X  1X  1Y  1Z  2X  2Z  3X  3Y  3Z  3Z  3Z  \n",
      "4X  4Y  4Z                          5X  5Y  5Z  \n",
      "1   6   2   5   3   4   12  7   11  8   10  9   \n",
      " ---------------------------------------------------------------\n"
     ]
    }
   ],
   "source": [
    "from Ternary_Tree import TernaryTree\n",
    "\n",
    "tt = TernaryTree(6)\n",
    "print(tt)\n"
   ]
  },
  {
   "cell_type": "markdown",
   "id": "918e2c5b",
   "metadata": {},
   "source": [
    "1) You can use parent_child = {NodeNumber: NodeInfo} dictianory which keep all the information about the tree. NodeInfo.parent -- number of parent node, NodeInfo.childs = list(int | EnumInfo | False) -- int - number of the child node, EnumInfo -- number of the branch"
   ]
  },
  {
   "cell_type": "code",
   "execution_count": 2,
   "id": "136574e7",
   "metadata": {
    "scrolled": false
   },
   "outputs": [
    {
     "name": "stdout",
     "output_type": "stream",
     "text": [
      "0X  0X  0X  0X  0X  0X  0Y  0Y  0Y  0Y  0Y  0Y  \n",
      "1X  1X  1X  1Y  1Y  1Y  2X  2X  2X  2Y  2Y  2Y  \n",
      "3X  3Y  3Z  4X  4Y  4Z  5X  5Y  5Z  6X  6Y  6Z  \n",
      "1   2   3   4   5   6   7   8   9   10  11  12  \n",
      " ---------------------------------------------------------------\n"
     ]
    },
    {
     "data": {
      "text/plain": [
       "'You also can create ternary tree with standart numeration in an easier way'"
      ]
     },
     "metadata": {},
     "output_type": "display_data"
    },
    {
     "name": "stdout",
     "output_type": "stream",
     "text": [
      "0X  0X  0X  0X  0X  0X  0Y  0Y  0Y  0Y  0Y  0Y  \n",
      "1X  1X  1X  1Y  1Y  1Y  2X  2X  2X  2Y  2Y  2Y  \n",
      "3X  3Y  3Z  4X  4Y  4Z  5X  5Y  5Z  6X  6Y  6Z  \n",
      "1   6   2   5   3   4   12  7   11  8   10  9   \n",
      " ---------------------------------------------------------------\n"
     ]
    },
    {
     "data": {
      "text/plain": [
       "'For example, you can create Jordan-Wigner Tree'"
      ]
     },
     "metadata": {},
     "output_type": "display_data"
    },
    {
     "name": "stdout",
     "output_type": "stream",
     "text": [
      "0X  0Y  0Z  0Z  0Z  0Z  0Z  0Z  0Z  0Z  0Z  0Z  \n",
      "        1X  1Y  1Z  1Z  1Z  1Z  1Z  1Z  1Z  1Z  \n",
      "                2X  2Y  2Z  2Z  2Z  2Z  2Z  2Z  \n",
      "                        3X  3Y  3Z  3Z  3Z  3Z  \n",
      "                                4X  4Y  4Z  4Z  \n",
      "                                        5X  5Y  \n",
      "1   2   3   4   5   6   7   8   9   10  11  12  \n",
      " ---------------------------------------------------------------\n"
     ]
    }
   ],
   "source": [
    "from Ternary_Tree import TernaryTree, NodeInfo, EnumInfo\n",
    "\n",
    "parent_child = {0 : NodeInfo(-1,[1,2,False])} # intiial node should have negative parent\n",
    "parent_child[1] = NodeInfo(0,[3,4, False])\n",
    "parent_child[2] = NodeInfo(0,[5,6, False])\n",
    "parent_child[3] =  NodeInfo(1,[EnumInfo(1),EnumInfo(2),EnumInfo(3)])\n",
    "parent_child[4] = NodeInfo(1,[EnumInfo(4),EnumInfo(5),EnumInfo(6)])\n",
    "parent_child[5] =  NodeInfo(2,[EnumInfo(7),EnumInfo(8),EnumInfo(9)])\n",
    "parent_child[6] =  NodeInfo(2,[EnumInfo(10),EnumInfo(11),EnumInfo(12)])\n",
    "\n",
    "tt = TernaryTree(parent_child = parent_child)\n",
    "print(tt)\n",
    "\n",
    "display(\"You also can create ternary tree with standart numeration in an easier way\")\n",
    "parent_child = {0 : NodeInfo(-1,[1,2,False])}\n",
    "parent_child[1] = NodeInfo(0,[3,4, False])\n",
    "parent_child[2] = NodeInfo(0,[5,6, False])\n",
    "parent_child[3] =  NodeInfo(1)\n",
    "parent_child[4] = NodeInfo(1)\n",
    "parent_child[5] =  NodeInfo(2)\n",
    "parent_child[6] =  NodeInfo(2) # nodes number can differ from fermionec modes nember\n",
    "\n",
    "tt = TernaryTree(parent_child = parent_child)\n",
    "print(tt)\n",
    "display(\"For example, you can create Jordan-Wigner Tree\")\n",
    "parent_child = {0 : NodeInfo(-1,[None,None,1])} # None means no numbering\n",
    "parent_child[1] = NodeInfo(0,[None,None,2])\n",
    "parent_child[2] = NodeInfo(1,[None,None,3])\n",
    "parent_child[3] =  NodeInfo(2,[None,None,4])\n",
    "parent_child[4] = NodeInfo(3,[None,None,5])\n",
    "parent_child[5] =  NodeInfo(4,[None,None,False])# False means no branch\n",
    "tt = TernaryTree(parent_child = parent_child, enum_list = [i for i in range(12)])\n",
    "print(tt)"
   ]
  },
  {
   "cell_type": "markdown",
   "id": "892be184",
   "metadata": {},
   "source": [
    "## 2) You can manipulate tree structure via standatd methods"
   ]
  },
  {
   "cell_type": "code",
   "execution_count": 3,
   "id": "a5d46c0b",
   "metadata": {},
   "outputs": [
    {
     "data": {
      "text/plain": [
       "'Class method below allow One building max tree with given height, where one branch is False'"
      ]
     },
     "metadata": {},
     "output_type": "display_data"
    },
    {
     "name": "stdout",
     "output_type": "stream",
     "text": [
      "0X  0X  0X  0X  0X  0X  0X  0X  0X  0Y  0Y  0Y  0Y  0Y  0Y  0Y  0Y  0Y  0Z  0Z  0Z  0Z  0Z  0Z  0Z  0Z  \n",
      "1X  1X  1X  1Y  1Y  1Y  1Z  1Z  1Z  2X  2X  2X  2Y  2Y  2Y  2Z  2Z  2Z  3X  3X  3X  3Y  3Y  3Y  3Z  3Z  \n",
      "4X  4Y  4Z  5X  5Y  5Z  6X  6Y  6Z  7X  7Y  7Z  8X  8Y  8Z  9X  9Y  9Z  10X 10Y 10Z 11X 11Y 11Z 12X 12Y \n",
      "1   2   3   4   5   6   7   8   9   10  11  12  13  14  15  16  17  18  19  20  21  22  23  24  25  26  \n",
      " ---------------------------------------------------------------\n"
     ]
    },
    {
     "data": {
      "text/plain": [
       "'One can delete nodes to obtain tree from one bigger, I use it to build trees from max tree'"
      ]
     },
     "metadata": {},
     "output_type": "display_data"
    },
    {
     "name": "stdout",
     "output_type": "stream",
     "text": [
      "0X  0X  0X  0X  0X  0X  0Y  0Y  0Y  0Y  0Y  0Y  \n",
      "1X  1X  1X  1Y  1Y  1Y  2X  2X  2X  2Y  2Y  2Y  \n",
      "3X  3Y  3Z  4X  4Y  4Z  5X  5Y  5Z  6X  6Y  6Z  \n",
      "1   6   2   5   3   4   12  7   11  8   10  9   \n",
      " ---------------------------------------------------------------\n"
     ]
    },
    {
     "data": {
      "text/plain": [
       "'Also one can transpose branches or subtrees'"
      ]
     },
     "metadata": {},
     "output_type": "display_data"
    },
    {
     "name": "stdout",
     "output_type": "stream",
     "text": [
      "0X  0Y  0Y  0Y  0Y  0Y  0Y  0Y  0Y  0Y  0Y  0Y  \n",
      "    2X  2X  2X  2Y  2Y  2Y  2Y  2Y  2Y  2Y  2Y  \n",
      "    5X  5Y  5Z  6X  6Y  6Z  6Z  6Z  6Z  6Z  6Z  \n",
      "                        1X  1X  1X  1Y  1Y  1Y  \n",
      "                        3X  3Y  3Z  4X  4Y  4Z  \n",
      "9   12  7   11  8   10  1   6   2   5   3   4   \n",
      " ---------------------------------------------------------------\n"
     ]
    },
    {
     "data": {
      "text/plain": [
       "'For branch renumeration one can use method tt.num_branch(list[int])'"
      ]
     },
     "metadata": {},
     "output_type": "display_data"
    },
    {
     "name": "stdout",
     "output_type": "stream",
     "text": [
      "0X  0Y  0Y  0Y  0Y  0Y  0Y  0Y  0Y  0Y  0Y  0Y  \n",
      "    2X  2X  2X  2Y  2Y  2Y  2Y  2Y  2Y  2Y  2Y  \n",
      "    5X  5Y  5Z  6X  6Y  6Z  6Z  6Z  6Z  6Z  6Z  \n",
      "                        1X  1X  1X  1Y  1Y  1Y  \n",
      "                        3X  3Y  3Z  4X  4Y  4Z  \n",
      "1   2   3   4   5   6   7   8   9   10  11  12  \n",
      " ---------------------------------------------------------------\n"
     ]
    }
   ],
   "source": [
    "from Ternary_Tree import TernaryTree\n",
    "\n",
    "display(\"Class method below allow One building max tree with given height, where one branch is False\")\n",
    "tt = TernaryTree.build_max_tree(3)\n",
    "# tt = TernaryTree.build_max_tree(height = 3,num_false = 8) #-- one can choose where to do false branch with num_false, edge_false\n",
    "print(tt)\n",
    "display(\"One can delete nodes to obtain tree from one bigger, I use it to build trees from max tree\")\n",
    "\n",
    "tt.delete_node(nodes = [3,6,9])\n",
    "\n",
    "display(\"Also one can transpose branches or subtrees\")\n",
    "tt.branch_transposition(first_node = 0,first_edge = 0, second_node = 6, second_edge = 2)# this method also return pauli string for branch transposition\n",
    "print(tt)\n",
    "\n",
    "display(\"For branch renumeration one can use method tt.num_branch(list[int])\")\n",
    "tt.num_branches([i for i in range(0,12)])\n",
    "print(tt)"
   ]
  },
  {
   "cell_type": "markdown",
   "id": "e0c26db0",
   "metadata": {},
   "source": [
    "## 3) After tree creation one can use standart qiskit_nature tools (which have been slightly modified for tree implementation)"
   ]
  },
  {
   "cell_type": "code",
   "execution_count": 4,
   "id": "64109a8a",
   "metadata": {},
   "outputs": [],
   "source": [
    "from Ternary_Tree import TernaryTree, TernaryTreeMapper\n",
    "from qiskit_nature.second_q.mappers import QubitConverter\n",
    "\n",
    "tt = TernaryTree(6)\n",
    "\n",
    "mapper = TernaryTreeMapper(tt = tt)\n",
    "converter = QubitConverter(mapper)"
   ]
  },
  {
   "cell_type": "markdown",
   "id": "791cb4b4",
   "metadata": {},
   "source": [
    "## 4) Example of solving a quantum chemistry problem via PySCFDriver\n"
   ]
  },
  {
   "cell_type": "code",
   "execution_count": 6,
   "id": "e924969d",
   "metadata": {
    "scrolled": false
   },
   "outputs": [
    {
     "name": "stdout",
     "output_type": "stream",
     "text": [
      "0X  0X  0X  0X  0Y  0Y  0Y  0Y  \n",
      "1X  1X  1X  1Y  2X  2X  2X  2Y  \n",
      "3X  3Y  3Z      4X  4Y  4Z      \n",
      "4   5   3   1   8   6   7   2   \n",
      " ---------------------------------------------------------------\n",
      "[3, 4, 2, 0, 7, 5, 6, 1]\n",
      "['ZXYZI', 'ZXXXZ', 'ZXXXY']\n",
      "[[('XYIII', 'YIYII'), ('XXIZI', 'XXIXI'), ('XXIYI', 'YIXIY'), ('YIXIZ', 'YIXIX')], [[1, 1j], [1, (-0-1j)], [1, 1j], [1, (-0-1j)]]]\n",
      "[[['XYIII', 'XXIZI'], ['YIYII', 'XXIXI'], ['XXIYI', 'YIXIY'], ['YIXIZ', 'YIXIX']], [[1, 1j], [(-1+0j), (-0-1j)], [1, 1j], [1, (-0-1j)]]]\n",
      "[[['XYIII', 'XXIZI'], ['YIYII', 'YIXIZ'], ['XXIYI', 'YIXIY'], ['XXIXI', 'YIXIX']], [[1, 1j], [(-1+0j), 1j], [1, 1j], [(1+0j), (-0-1j)]]]\n",
      "[[['XYIII', 'XXIZI'], ['YIYII', 'YIXIZ'], ['XXIYI', 'XXIXI'], ['YIXIY', 'YIXIX']], [[1, 1j], [(-1+0j), 1j], [1, 1j], [(-1+0j), (-0-1j)]]]\n",
      "0X  0X  0X  0X  0Y  0Y  0Y  0Y  \n",
      "1X  1X  1X  1Y  2X  2X  2X  2Y  \n",
      "3X  3Y  3Z      4X  4Y  4Z      \n",
      "6   5   2   1   8   7   4   3   \n",
      " ---------------------------------------------------------------\n",
      "{3: -1, 4: -1, 1: -1, 2: 1}\n",
      "(1, 1)\n",
      "[3, 4, 2, 0, 7, 5, 6, 1]\n",
      "     ┌─────┐┌───┐┌───┐┌───┐┌───┐┌───┐┌───┐┌─────────┐┌───┐┌───┐┌───┐┌───┐┌───┐»\n",
      "q_0: ┤ Sdg ├┤ H ├┤ X ├┤ X ├┤ X ├┤ X ├┤ I ├┤ Rz(π/2) ├┤ I ├┤ X ├┤ X ├┤ X ├┤ X ├»\n",
      "     └┬───┬┘└───┘└─┬─┘└─┬─┘└─┬─┘└─┬─┘└───┘└─────────┘└───┘└─┬─┘└─┬─┘└─┬─┘└─┬─┘»\n",
      "q_1: ─┤ H ├────────■────┼────┼────┼─────────────────────────┼────┼────┼────■──»\n",
      "      ├───┤ ┌───┐       │    │    │                         │    │    │  ┌───┐»\n",
      "q_2: ─┤ X ├─┤ H ├───────■────┼────┼─────────────────────────┼────┼────■──┤ H ├»\n",
      "      ├───┤ └───┘            │    │                         │    │  ┌───┐├───┤»\n",
      "q_3: ─┤ H ├──────────────────■────┼─────────────────────────┼────■──┤ H ├┤ H ├»\n",
      "      └───┘                       │                         │       └───┘└───┘»\n",
      "q_4: ─────────────────────────────■─────────────────────────■─────────────────»\n",
      "                                                                              »\n",
      "«     ┌───┐┌───┐┌───┐┌───┐┌───┐┌───┐┌───┐┌─────────┐┌───┐┌───┐┌───┐┌───┐┌───┐»\n",
      "«q_0: ┤ H ├┤ S ├┤ X ├┤ X ├┤ X ├┤ X ├┤ I ├┤ Rz(π/2) ├┤ I ├┤ X ├┤ X ├┤ X ├┤ X ├»\n",
      "«     ├───┤├───┤└─┬─┘└─┬─┘└─┬─┘└─┬─┘└───┘└─────────┘└───┘└─┬─┘└─┬─┘└─┬─┘└─┬─┘»\n",
      "«q_1: ┤ H ├┤ H ├──■────┼────┼────┼─────────────────────────┼────┼────┼────■──»\n",
      "«     ├───┤└───┘       │    │    │                         │    │    │  ┌───┐»\n",
      "«q_2: ┤ H ├────────────■────┼────┼─────────────────────────┼────┼────■──┤ H ├»\n",
      "«     └───┘                 │    │                         │    │  ┌───┐├───┤»\n",
      "«q_3: ──────────────────────■────┼─────────────────────────┼────■──┤ H ├┤ H ├»\n",
      "«                                │                         │       └───┘└───┘»\n",
      "«q_4: ───────────────────────────■─────────────────────────■─────────────────»\n",
      "«                                                                            »\n",
      "«      ┌───┐ ┌───┐                                                   \n",
      "«q_0: ─┤ I ├─┤ I ├───────────────────────────────────────────────────\n",
      "«      ├───┤ └───┘┌───┐┌───┐┌───┐┌─────────┐┌───┐┌───┐┌───┐          \n",
      "«q_1: ─┤ H ├──────┤ X ├┤ X ├┤ X ├┤ Rz(π/2) ├┤ X ├┤ X ├┤ X ├──────────\n",
      "«     ┌┴───┴┐┌───┐└─┬─┘└─┬─┘└─┬─┘└─────────┘└─┬─┘└─┬─┘└─┬─┘┌───┐┌───┐\n",
      "«q_2: ┤ Sdg ├┤ H ├──■────┼────┼───────────────┼────┼────■──┤ H ├┤ S ├\n",
      "«     └─────┘└───┘       │    │               │    │  ┌───┐└───┘└───┘\n",
      "«q_3: ───────────────────■────┼───────────────┼────■──┤ H ├──────────\n",
      "«                             │               │       └───┘          \n",
      "«q_4: ────────────────────────■───────────────■──────────────────────\n",
      "«                                                                    \n",
      "=== GROUND STATE ENERGY ===\n",
      " \n",
      "* Electronic ground state energy (Hartree): -1.850926811571\n",
      "  - computed part:      -1.850926811571\n",
      "  - ActiveSpaceTransformer extracted energy part: 0.0\n",
      "~ Nuclear repulsion energy (Hartree): 0.713657735563\n",
      "> Total ground state energy (Hartree): -1.137269076008\n",
      " \n",
      "=== MEASURED OBSERVABLES ===\n",
      " \n",
      "  0:  # Particles: 2.000 S: 0.000 S^2: 0.000 M: 0.000\n",
      " \n",
      "=== DIPOLE MOMENTS ===\n",
      " \n",
      "~ Nuclear dipole moment (a.u.): [0.0  0.0  1.40123192]\n",
      " \n",
      "  0: \n",
      "  * Electronic dipole moment (a.u.): [0.0  0.0  1.40123201]\n",
      "    - computed part:      [0.0  0.0  1.40123201]\n",
      "    - ActiveSpaceTransformer extracted energy part: [0.0  0.0  0.0]\n",
      "  > Dipole moment (a.u.): [0.0  0.0  -0.00000009]  Total: 0.00000009\n",
      "                 (debye): [0.0  0.0  -0.00000024]  Total: 0.00000024\n",
      " \n"
     ]
    }
   ],
   "source": [
    "from qiskit.primitives import Estimator\n",
    "from qiskit_nature.second_q.transformers import ActiveSpaceTransformer\n",
    "from qiskit_nature.second_q.algorithms import VQEUCCFactory\n",
    "from qiskit_nature.second_q.circuit.library import UCC\n",
    "from qiskit_nature.second_q.drivers import PySCFDriver\n",
    "from qiskit_nature.units import DistanceUnit\n",
    "from Ternary_Tree import TernaryTree, TT_initial_state, TernaryTreeMapper, EnumInfo, NodeInfo\n",
    "from qiskit_nature.second_q.mappers import QubitConverter\n",
    "from qiskit.algorithms.minimum_eigensolvers import VQE\n",
    "from qiskit.algorithms.optimizers import SLSQP\n",
    "from qiskit_nature.second_q.algorithms import GroundStateEigensolver\n",
    "from qiskit.quantum_info import Statevector\n",
    "\n",
    "\n",
    "# problem definiton\n",
    "n = 4\n",
    "bond_length = 0.7415\n",
    "basis = \"STO-3G\"\n",
    "active_orbitals = [0,1] # list of active orbitals: len(active_orbitals) == n//2\n",
    "driver = PySCFDriver(\n",
    "        atom=\"H 0 0 0; H 0 0 \" + str(bond_length),\n",
    "    #         basis=\"sto3g\",\n",
    "        basis=basis,\n",
    "        charge=0,\n",
    "        spin=0,\n",
    "        unit=DistanceUnit.ANGSTROM,\n",
    "    )\n",
    "es_problem = driver.run()\n",
    "\n",
    "# Tool for transformation of the orbitals \n",
    "transformer = ActiveSpaceTransformer(\n",
    "    num_electrons = es_problem.num_alpha + es_problem.num_beta , #number of active electrons\n",
    "    num_spatial_orbitals = n//2  , active_orbitals = active_orbitals\n",
    ")\n",
    "es_problem = transformer.transform(es_problem)\n",
    "\n",
    "\n",
    "\n",
    "parent_child = {0 : NodeInfo(-1,[1,2,False])}\n",
    "parent_child[1] = NodeInfo(0,[3,EnumInfo(1), False])\n",
    "parent_child[2] = NodeInfo(0,[4, EnumInfo(2), False])\n",
    "parent_child[3] =  NodeInfo(1,[EnumInfo(4),EnumInfo(5),EnumInfo(3)])\n",
    "parent_child[4] = NodeInfo(2,[EnumInfo(8),EnumInfo(6),EnumInfo(7)])\n",
    "tt = TernaryTree(parent_child = parent_child) # note: not an effictive tree structure for this problem\n",
    "print(tt)\n",
    "\n",
    "# Preparing the initial state, since the vacuum state is not null state, \n",
    "# procedure required 4nlog(2n) 2-qubit gates in the worst case \n",
    "qc = TT_initial_state(tt = tt, num_particles = es_problem.num_particles)\n",
    "\n",
    "mapper = TernaryTreeMapper(tt = tt)\n",
    "# from qiskit_nature.second_q.mappers import JordanWignerMapper\n",
    "# mapper = JordanWignerMapper()\n",
    "converter = QubitConverter(mapper)\n",
    "print(es_problem.num_particles)\n",
    "main_operator = converter.convert(\n",
    "            es_problem.second_q_ops()[0],\n",
    "            num_particles=es_problem.num_particles,\n",
    "            sector_locator=es_problem.symmetry_sector_locator,\n",
    "        )\n",
    "# Build quantum circuit for UCC ansatz with only possible alpha -> alpha, beta -> beta, occupied -> unoccupied transitions\n",
    "ucc = UCC(qubit_converter = converter,  num_spatial_orbitals = es_problem.num_spin_orbitals//2, \n",
    "        num_particles = es_problem.num_particles, excitations = 'sd')\n",
    "\n",
    "\n",
    "ucc = qc.compose(ucc)\n",
    "\n",
    "print(qc)\n",
    "vqe_solver = VQE(Estimator(), ucc,   SLSQP(maxiter = 100), initial_point = [0]*ucc.num_parameters)\n",
    "calc = GroundStateEigensolver(converter, vqe_solver)\n",
    "res = calc.solve(es_problem)\n",
    "\n",
    "print(res)\n"
   ]
  },
  {
   "cell_type": "code",
   "execution_count": null,
   "id": "02e429ad",
   "metadata": {},
   "outputs": [],
   "source": []
  },
  {
   "cell_type": "code",
   "execution_count": null,
   "id": "910facc2",
   "metadata": {},
   "outputs": [],
   "source": []
  }
 ],
 "metadata": {
  "kernelspec": {
   "display_name": "Python 3 (ipykernel)",
   "language": "python",
   "name": "python3"
  },
  "language_info": {
   "codemirror_mode": {
    "name": "ipython",
    "version": 3
   },
   "file_extension": ".py",
   "mimetype": "text/x-python",
   "name": "python",
   "nbconvert_exporter": "python",
   "pygments_lexer": "ipython3",
   "version": "3.9.15"
  }
 },
 "nbformat": 4,
 "nbformat_minor": 5
}
